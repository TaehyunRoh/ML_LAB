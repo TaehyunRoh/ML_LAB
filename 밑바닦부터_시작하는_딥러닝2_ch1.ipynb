{
  "nbformat": 4,
  "nbformat_minor": 0,
  "metadata": {
    "colab": {
      "name": "밑바닦부터 시작하는 딥러닝2_ch1",
      "version": "0.3.2",
      "provenance": [],
      "collapsed_sections": [
        "fp5v7SEyrggG",
        "xQ73R0hsrrAA",
        "L7hPuiO74dYx"
      ],
      "include_colab_link": true
    },
    "kernelspec": {
      "name": "python3",
      "display_name": "Python 3"
    }
  },
  "cells": [
    {
      "cell_type": "markdown",
      "metadata": {
        "id": "view-in-github",
        "colab_type": "text"
      },
      "source": [
        "<a href=\"https://colab.research.google.com/github/TaehyunRoh/ML_LAB/blob/master/%EB%B0%91%EB%B0%94%EB%8B%A6%EB%B6%80%ED%84%B0_%EC%8B%9C%EC%9E%91%ED%95%98%EB%8A%94_%EB%94%A5%EB%9F%AC%EB%8B%9D2_ch1.ipynb\" target=\"_parent\"><img src=\"https://colab.research.google.com/assets/colab-badge.svg\" alt=\"Open In Colab\"/></a>"
      ]
    },
    {
      "cell_type": "markdown",
      "metadata": {
        "id": "Vn6jv2E_jivl",
        "colab_type": "text"
      },
      "source": [
        "#밑바닦부터 시작하는 딥러닝2\n",
        "\n",
        "#Chapter1. 신경망 복습\n",
        "\n",
        "##1.1 수학과 파이썬 복습\n",
        "\n",
        "###1.1.1 벡터와 행렬\n"
      ]
    },
    {
      "cell_type": "markdown",
      "metadata": {
        "id": "6YQtsEvWj2Si",
        "colab_type": "text"
      },
      "source": [
        "'벡터'와 '행렬'\n",
        "\n",
        "'벡터' : 크기와 방향을 갖은 양./ 숫자가 일렬로 늘어선 집합./ 1차원 배열\n",
        "'행렬' : 숫자가 2차원 형태(사각형 형상). / 2차원 배열"
      ]
    },
    {
      "cell_type": "code",
      "metadata": {
        "id": "clgB15BskY1d",
        "colab_type": "code",
        "outputId": "93ea73da-9201-43d5-cbbf-f131e97f9c6d",
        "colab": {
          "base_uri": "https://localhost:8080/",
          "height": 34
        }
      },
      "source": [
        "import numpy as np\n",
        "\n",
        "x = np.array([1,2,3])\n",
        "x.__class__ # 클래스 이름 표시\n"
      ],
      "execution_count": 0,
      "outputs": [
        {
          "output_type": "execute_result",
          "data": {
            "text/plain": [
              "numpy.ndarray"
            ]
          },
          "metadata": {
            "tags": []
          },
          "execution_count": 67
        }
      ]
    },
    {
      "cell_type": "code",
      "metadata": {
        "id": "c2aA3WIYkqMh",
        "colab_type": "code",
        "outputId": "42252dab-e5e2-4949-82cf-4a611705616b",
        "colab": {
          "base_uri": "https://localhost:8080/",
          "height": 34
        }
      },
      "source": [
        "x.shape # 배열의 형상 원소의 수가 3개이다"
      ],
      "execution_count": 0,
      "outputs": [
        {
          "output_type": "execute_result",
          "data": {
            "text/plain": [
              "(3,)"
            ]
          },
          "metadata": {
            "tags": []
          },
          "execution_count": 68
        }
      ]
    },
    {
      "cell_type": "code",
      "metadata": {
        "id": "tiHqzqCGkreC",
        "colab_type": "code",
        "outputId": "be7ce7d7-56e3-46b0-cdba-0ca3dcda9f62",
        "colab": {
          "base_uri": "https://localhost:8080/",
          "height": 34
        }
      },
      "source": [
        "x.ndim # 차원의 수"
      ],
      "execution_count": 0,
      "outputs": [
        {
          "output_type": "execute_result",
          "data": {
            "text/plain": [
              "1"
            ]
          },
          "metadata": {
            "tags": []
          },
          "execution_count": 69
        }
      ]
    },
    {
      "cell_type": "code",
      "metadata": {
        "id": "tDgqVd9Sksn0",
        "colab_type": "code",
        "outputId": "99db56ac-bec6-4d2f-db0a-45422c42c9f8",
        "colab": {
          "base_uri": "https://localhost:8080/",
          "height": 34
        }
      },
      "source": [
        "w = np.array([[1,2,3],[4,5,6]])\n",
        "w.shape"
      ],
      "execution_count": 0,
      "outputs": [
        {
          "output_type": "execute_result",
          "data": {
            "text/plain": [
              "(2, 3)"
            ]
          },
          "metadata": {
            "tags": []
          },
          "execution_count": 70
        }
      ]
    },
    {
      "cell_type": "code",
      "metadata": {
        "id": "_tJ9-C_dlNab",
        "colab_type": "code",
        "outputId": "1c7b3662-0c7b-4982-c7d6-e24f3a264c37",
        "colab": {
          "base_uri": "https://localhost:8080/",
          "height": 34
        }
      },
      "source": [
        "w.ndim"
      ],
      "execution_count": 0,
      "outputs": [
        {
          "output_type": "execute_result",
          "data": {
            "text/plain": [
              "2"
            ]
          },
          "metadata": {
            "tags": []
          },
          "execution_count": 71
        }
      ]
    },
    {
      "cell_type": "markdown",
      "metadata": {
        "id": "emmK93PolVlf",
        "colab_type": "text"
      },
      "source": [
        "###1.1.2 행렬의 원소별 연산"
      ]
    },
    {
      "cell_type": "code",
      "metadata": {
        "id": "Kt3sRYS0lQsm",
        "colab_type": "code",
        "outputId": "c19d55c9-8a79-45c5-a40c-2e087d088cb0",
        "colab": {
          "base_uri": "https://localhost:8080/",
          "height": 52
        }
      },
      "source": [
        "w = np.array([[1,2,3],[4,5,6]])\n",
        "x = np.array([[0,1,2],[3,4,5]])\n",
        "\n",
        "w + x"
      ],
      "execution_count": 0,
      "outputs": [
        {
          "output_type": "execute_result",
          "data": {
            "text/plain": [
              "array([[ 1,  3,  5],\n",
              "       [ 7,  9, 11]])"
            ]
          },
          "metadata": {
            "tags": []
          },
          "execution_count": 72
        }
      ]
    },
    {
      "cell_type": "code",
      "metadata": {
        "id": "JSjqhjgwlSdf",
        "colab_type": "code",
        "outputId": "dc393488-0e7c-48da-ffaf-730e2ff86c6c",
        "colab": {
          "base_uri": "https://localhost:8080/",
          "height": 52
        }
      },
      "source": [
        "w * x #원소들끼리 더하기 곱하기"
      ],
      "execution_count": 0,
      "outputs": [
        {
          "output_type": "execute_result",
          "data": {
            "text/plain": [
              "array([[ 0,  2,  6],\n",
              "       [12, 20, 30]])"
            ]
          },
          "metadata": {
            "tags": []
          },
          "execution_count": 73
        }
      ]
    },
    {
      "cell_type": "markdown",
      "metadata": {
        "id": "tcfe0ftWlu_m",
        "colab_type": "text"
      },
      "source": [
        "###1.1.3 브로드캐스트\n",
        "형상이 다른 배열 끼리도 연산 가능"
      ]
    },
    {
      "cell_type": "code",
      "metadata": {
        "id": "0dEtKq6Vlpgv",
        "colab_type": "code",
        "outputId": "fe082acf-19a9-4e13-ec02-dfc67a3947e5",
        "colab": {
          "base_uri": "https://localhost:8080/",
          "height": 52
        }
      },
      "source": [
        "A = np.array([[1,2],[3,4]])\n",
        "A"
      ],
      "execution_count": 0,
      "outputs": [
        {
          "output_type": "execute_result",
          "data": {
            "text/plain": [
              "array([[1, 2],\n",
              "       [3, 4]])"
            ]
          },
          "metadata": {
            "tags": []
          },
          "execution_count": 74
        }
      ]
    },
    {
      "cell_type": "code",
      "metadata": {
        "id": "4ckX1b0Yl9sB",
        "colab_type": "code",
        "outputId": "82d71518-e897-4521-865a-c144b22289e0",
        "colab": {
          "base_uri": "https://localhost:8080/",
          "height": 52
        }
      },
      "source": [
        "A * 10"
      ],
      "execution_count": 0,
      "outputs": [
        {
          "output_type": "execute_result",
          "data": {
            "text/plain": [
              "array([[10, 20],\n",
              "       [30, 40]])"
            ]
          },
          "metadata": {
            "tags": []
          },
          "execution_count": 75
        }
      ]
    },
    {
      "cell_type": "code",
      "metadata": {
        "id": "7QauMmxol_8B",
        "colab_type": "code",
        "outputId": "a97f7217-d967-4aa9-b734-f7ea95772d17",
        "colab": {
          "base_uri": "https://localhost:8080/",
          "height": 52
        }
      },
      "source": [
        "# 또 다른 예\n",
        "\n",
        "A\n",
        "B = np.array([10,20])\n",
        "A*B\n",
        "\n",
        "#B가 array([[10,20],[10,20]])의 형태로 확장된다. 원소곱"
      ],
      "execution_count": 0,
      "outputs": [
        {
          "output_type": "execute_result",
          "data": {
            "text/plain": [
              "array([[10, 40],\n",
              "       [30, 80]])"
            ]
          },
          "metadata": {
            "tags": []
          },
          "execution_count": 76
        }
      ]
    },
    {
      "cell_type": "markdown",
      "metadata": {
        "id": "Ldpk2Tc8mg5g",
        "colab_type": "text"
      },
      "source": [
        "###1.1.4 벡터의 내적과 행렬의 곱\n",
        " ***XY*** = x_1*y_1 + x_2*y_2\n",
        " \n",
        " > 두 벡터가 얼마나 같은 방향을 향하고 있는가를 나타낸다. (벡터의 길이가 같다고 한정할 경우 같은 방향은 1 다른 방향은 -1)"
      ]
    },
    {
      "cell_type": "code",
      "metadata": {
        "id": "SwnbxN3pmMm0",
        "colab_type": "code",
        "outputId": "6fd63d9b-6715-4705-80f2-127559f9bc6e",
        "colab": {
          "base_uri": "https://localhost:8080/",
          "height": 34
        }
      },
      "source": [
        "# 벡터의 내적\n",
        "\n",
        "a = np.array([1,2,3,])\n",
        "b = np.array([4,5,6])\n",
        "\n",
        "np.dot(a,b)\n"
      ],
      "execution_count": 0,
      "outputs": [
        {
          "output_type": "execute_result",
          "data": {
            "text/plain": [
              "32"
            ]
          },
          "metadata": {
            "tags": []
          },
          "execution_count": 77
        }
      ]
    },
    {
      "cell_type": "code",
      "metadata": {
        "id": "7k1SPtYtmPDw",
        "colab_type": "code",
        "outputId": "2fecacaa-2be4-4280-e4c6-bcb69666ee73",
        "colab": {
          "base_uri": "https://localhost:8080/",
          "height": 52
        }
      },
      "source": [
        "# 행렬의 곱\n",
        "\n",
        "A = np.array([[1,2], [3,4]])\n",
        "B = np.array([[5,6], [7,8]])\n",
        "\n",
        "np.matmul(A,B)"
      ],
      "execution_count": 0,
      "outputs": [
        {
          "output_type": "execute_result",
          "data": {
            "text/plain": [
              "array([[19, 22],\n",
              "       [43, 50]])"
            ]
          },
          "metadata": {
            "tags": []
          },
          "execution_count": 78
        }
      ]
    },
    {
      "cell_type": "code",
      "metadata": {
        "id": "Z7dodj8xq0ct",
        "colab_type": "code",
        "outputId": "1d6797e1-9631-4622-c2bd-c82eb8194ee3",
        "colab": {
          "base_uri": "https://localhost:8080/",
          "height": 52
        }
      },
      "source": [
        "np.dot(A,B)#행렬의 곱과 내적을 구분하여써서 의도를 명확히 나타내자"
      ],
      "execution_count": 0,
      "outputs": [
        {
          "output_type": "execute_result",
          "data": {
            "text/plain": [
              "array([[19, 22],\n",
              "       [43, 50]])"
            ]
          },
          "metadata": {
            "tags": []
          },
          "execution_count": 79
        }
      ]
    },
    {
      "cell_type": "code",
      "metadata": {
        "id": "u6FeJQAnrA_s",
        "colab_type": "code",
        "colab": {}
      },
      "source": [
        "#100 numpay exercises 들어가서 연습하는게 이득 문제 100개\n",
        "#https://github.com/rougier/numpy-100"
      ],
      "execution_count": 0,
      "outputs": []
    },
    {
      "cell_type": "markdown",
      "metadata": {
        "id": "fp5v7SEyrggG",
        "colab_type": "text"
      },
      "source": [
        "###1.1.5 행렬 형상 확인\n",
        "앞행렬의 열 뒷행렬의 행 이 맞는 지 확인"
      ]
    },
    {
      "cell_type": "markdown",
      "metadata": {
        "id": "DTZxUBcrrrC_",
        "colab_type": "text"
      },
      "source": [
        "##1.2 신경망의 추론\n",
        "신경망은 두단계 학습, 추론"
      ]
    },
    {
      "cell_type": "markdown",
      "metadata": {
        "id": "xQ73R0hsrrAA",
        "colab_type": "text"
      },
      "source": [
        "###1.2.1 신경망 추론 전체 그림\n"
      ]
    },
    {
      "cell_type": "markdown",
      "metadata": {
        "id": "Ab4esew5rq9A",
        "colab_type": "text"
      },
      "source": [
        "신경망 = 함수 / 입력값과 출력 값이 있다. \n",
        "\n",
        "2차원 입력하여 3차원 데이터를 출력하는 함수를 예로 든다. \n",
        "\n",
        "신경망을 구현 하려면?\n",
        "\n",
        "입력층(input layer) : 뉴런 2개 (input layer 2차원)\n",
        "\n",
        "출력층(ouput layer) : 뉴런 3개 (output layer 3차원)\n",
        "\n",
        "은닉층(hidden layer)(중간층) :  적당한 수의 뉴런 배치\n",
        "\n",
        "\n",
        "각각의 화살표에는 가중치가 존재한다.  그 가중치와 뉴련의 값을 각각 곱해서 그 합(합의 값에 활성화 함수 activation fucntion를 적용한 값이 들어간다. )이 다음 뉴련의 입력으로 쓰인다. \n",
        "\n",
        "\n",
        "이떄 각 층에서는 이전 뉴련의 값에 영향을 받지 않은'정수'도 더해집니다. (편향 bias)\n",
        "\n",
        "완전 연결계층 (fully connected layer) : 인접하는 층의 모든 뉴런과 연결\n",
        "\n",
        "가중치 층으로 판단 -> 2층 신경망\n",
        "\n",
        "\n"
      ]
    },
    {
      "cell_type": "markdown",
      "metadata": {
        "id": "mBw4CB2Xrq6S",
        "colab_type": "text"
      },
      "source": [
        "h_1 = x1w_11 + x2w_21 + b_1 (은닉층의 뉴런 _h_1)\n",
        "\n",
        "\n",
        "**h = xW + b**"
      ]
    },
    {
      "cell_type": "code",
      "metadata": {
        "id": "FHGZnJQzro5f",
        "colab_type": "code",
        "colab": {}
      },
      "source": [
        "import numpy as np\n",
        "W1 = np.random.randn(2,4)"
      ],
      "execution_count": 0,
      "outputs": []
    },
    {
      "cell_type": "code",
      "metadata": {
        "id": "RDO60lu7wUQo",
        "colab_type": "code",
        "outputId": "1cbc5ae9-3eba-4ea1-9460-5d2ac42e366a",
        "colab": {
          "base_uri": "https://localhost:8080/",
          "height": 52
        }
      },
      "source": [
        "W1 #가중치는 다 다른다 2층 신경망에서 한개의 층의 히든 레이어  값 구하기 위한 weight"
      ],
      "execution_count": 0,
      "outputs": [
        {
          "output_type": "execute_result",
          "data": {
            "text/plain": [
              "array([[-0.21355538, -0.9688169 ,  2.41526195,  1.81895448],\n",
              "       [ 0.61757328, -2.44681389,  0.10091314, -2.02956008]])"
            ]
          },
          "metadata": {
            "tags": []
          },
          "execution_count": 82
        }
      ]
    },
    {
      "cell_type": "code",
      "metadata": {
        "id": "ZV3MlYAMwVJC",
        "colab_type": "code",
        "outputId": "a181683d-0c30-4176-f53b-be3901222a9c",
        "colab": {
          "base_uri": "https://localhost:8080/",
          "height": 34
        }
      },
      "source": [
        "b1 = np.random.randn(4)\n",
        "b1"
      ],
      "execution_count": 0,
      "outputs": [
        {
          "output_type": "execute_result",
          "data": {
            "text/plain": [
              "array([-1.50016918,  1.15078323, -0.47470299,  0.15461951])"
            ]
          },
          "metadata": {
            "tags": []
          },
          "execution_count": 83
        }
      ]
    },
    {
      "cell_type": "code",
      "metadata": {
        "id": "SWO5w6lFwhn4",
        "colab_type": "code",
        "outputId": "994a9fcc-6cb1-42d4-a450-45faa9b0d8d4",
        "colab": {
          "base_uri": "https://localhost:8080/",
          "height": 191
        }
      },
      "source": [
        "x = np.random.randn(1, 2) #2차원 데이터 1개 책에서는 한개로 했지만 이해를 돕기위해 그림과 같은 1개의 데이터로함 \n",
        "x\n",
        "\n",
        "x1 = np.random.randn(10, 2) #2차원 데이터 10개  \n",
        "x1"
      ],
      "execution_count": 0,
      "outputs": [
        {
          "output_type": "execute_result",
          "data": {
            "text/plain": [
              "array([[ 0.97322649, -0.41395682],\n",
              "       [ 1.44552255, -0.68370721],\n",
              "       [-0.8087068 ,  0.15559594],\n",
              "       [ 0.3581772 ,  0.80951728],\n",
              "       [ 0.12421409, -1.13420535],\n",
              "       [-0.22193562,  0.00880719],\n",
              "       [ 0.37439205, -0.19520097],\n",
              "       [ 0.23085916,  0.91427914],\n",
              "       [ 0.27037778, -0.69285508],\n",
              "       [ 0.05516052,  0.36644174]])"
            ]
          },
          "metadata": {
            "tags": []
          },
          "execution_count": 84
        }
      ]
    },
    {
      "cell_type": "code",
      "metadata": {
        "id": "e52vpPXlwiJl",
        "colab_type": "code",
        "outputId": "d7745a7b-b2f8-4fc4-d528-7593a1ac313e",
        "colab": {
          "base_uri": "https://localhost:8080/",
          "height": 34
        }
      },
      "source": [
        "h = np.matmul(x, W1) + b1\n",
        "h #히든 레이어의 뉴런에 들어가는 값?활성화 함수를 적용시키지 않았따. "
      ],
      "execution_count": 0,
      "outputs": [
        {
          "output_type": "execute_result",
          "data": {
            "text/plain": [
              "array([[-2.45033475,  4.03055605,  0.56447883,  3.82179302]])"
            ]
          },
          "metadata": {
            "tags": []
          },
          "execution_count": 85
        }
      ]
    },
    {
      "cell_type": "code",
      "metadata": {
        "id": "4X2klsy6wv1T",
        "colab_type": "code",
        "outputId": "8177d3cf-79fb-478f-ad46-2986ed680344",
        "colab": {
          "base_uri": "https://localhost:8080/",
          "height": 191
        }
      },
      "source": [
        "h1 = np.matmul(x1, W1) + b1\n",
        "h1 #히든 레이어의 뉴런에 들어가는 값?활성화 함수를 적용시키지 않았따. "
      ],
      "execution_count": 0,
      "outputs": [
        {
          "output_type": "execute_result",
          "data": {
            "text/plain": [
              "array([[-1.96365561,  1.22078025,  1.83412024,  2.76502443],\n",
              "       [-2.2311076 ,  1.42324085,  2.94761758,  4.17158408],\n",
              "       [-1.2313736 ,  1.55355772, -2.41224007, -1.63217266],\n",
              "       [-1.07672361, -1.176963  ,  0.4720797 , -0.83683642],\n",
              "       [-2.22715069,  3.80563192, -0.28914965,  2.6824972 ],\n",
              "       [-1.44733455,  1.34424866, -1.0098469 , -0.266946  ],\n",
              "       [-1.70067352,  1.26568632,  0.40985354,  1.2317937 ],\n",
              "       [-0.98483603, -1.30994792,  0.17514513, -1.28104264],\n",
              "       [-1.9857986 ,  2.5841241 ,  0.108412  ,  2.05261541],\n",
              "       [-1.28564438,  0.20072805, -0.30449711, -0.48876155]])"
            ]
          },
          "metadata": {
            "tags": []
          },
          "execution_count": 86
        }
      ]
    },
    {
      "cell_type": "markdown",
      "metadata": {
        "id": "dKTjCk5byGmZ",
        "colab_type": "text"
      },
      "source": [
        "10개의 샘플 데이터를 각각 완전 연결계층으로 변화 시켰다. \n",
        "\n",
        "완전연결계층에 의한 변환은 '선형'변환이다.'비선형'으로 바꾸기 위해  '활성화 함수' 사용"
      ]
    },
    {
      "cell_type": "markdown",
      "metadata": {
        "id": "8Rel7AWyyr4l",
        "colab_type": "text"
      },
      "source": [
        "**시그모이드sigmoid function** 사용\n",
        "\n",
        "sigma(x) = 1/(1+ exp(-x))\n",
        "\n",
        "0에서 1사이의 값 반환"
      ]
    },
    {
      "cell_type": "code",
      "metadata": {
        "id": "_s16rLTsyCoR",
        "colab_type": "code",
        "colab": {}
      },
      "source": [
        "def sigmod(x) :\n",
        "  return 1 / (1 + np.exp(-x))"
      ],
      "execution_count": 0,
      "outputs": []
    },
    {
      "cell_type": "code",
      "metadata": {
        "id": "VxnQk85ozLTh",
        "colab_type": "code",
        "outputId": "3993f9b5-db73-42aa-9b8b-38be91af02e2",
        "colab": {
          "base_uri": "https://localhost:8080/",
          "height": 191
        }
      },
      "source": [
        "#시그모이드 함수를 하용하여 은닉층 뉴런을 반환\n",
        "a = sigmod(h1)\n",
        "a"
      ],
      "execution_count": 0,
      "outputs": [
        {
          "output_type": "execute_result",
          "data": {
            "text/plain": [
              "array([[0.12307197, 0.77220083, 0.86225183, 0.94075629],\n",
              "       [0.09699159, 0.80584598, 0.95015077, 0.9848066 ],\n",
              "       [0.2259411 , 0.82542698, 0.08224408, 0.16353295],\n",
              "       [0.25412654, 0.2355987 , 0.61587588, 0.30220149],\n",
              "       [0.0973387 , 0.97823894, 0.42821206, 0.93598591],\n",
              "       [0.19041212, 0.79318776, 0.26700981, 0.433657  ],\n",
              "       [0.15437732, 0.78000342, 0.60105276, 0.77413236],\n",
              "       [0.27193326, 0.21249556, 0.54367469, 0.21737279],\n",
              "       [0.12070206, 0.92983282, 0.52707649, 0.88621162],\n",
              "       [0.21659096, 0.55001419, 0.4244585 , 0.38018536]])"
            ]
          },
          "metadata": {
            "tags": []
          },
          "execution_count": 88
        }
      ]
    },
    {
      "cell_type": "code",
      "metadata": {
        "id": "oQJlrdS8zXlB",
        "colab_type": "code",
        "colab": {}
      },
      "source": [
        "#시그모이드 함수에 의해 비선형 변환 가능"
      ],
      "execution_count": 0,
      "outputs": []
    },
    {
      "cell_type": "code",
      "metadata": {
        "id": "vt3lVYFN199Z",
        "colab_type": "code",
        "outputId": "6f02a2da-6056-4a88-cff2-446f30ab9f94",
        "colab": {
          "base_uri": "https://localhost:8080/",
          "height": 191
        }
      },
      "source": [
        "import numpy as np\n",
        "def sigmoid(x) :\n",
        "  return 1/ (1 + np.exp(-x))\n",
        "\n",
        "x = np.random.randn(10,2) #입력데이터 10개\n",
        "W1 = np.random.randn(2,4) #가중치 2*4 은닉층 뉴련수 4개로 만들꺼다 \n",
        "b1 = np.random.randn(4)\n",
        "W2 = np.random.randn(4,3) # 마지막 아웃풋은 3차원 데이터로 만들꺼니까 3\n",
        "b2 = np.random.randn(3)\n",
        "\n",
        "\n",
        "h = np.matmul(x,W1) + b1\n",
        "a = sigmoid(h)\n",
        "s = np.matmul(a,W2) + b2\n",
        "s"
      ],
      "execution_count": 0,
      "outputs": [
        {
          "output_type": "execute_result",
          "data": {
            "text/plain": [
              "array([[-0.11439386,  0.98758984, -0.58968346],\n",
              "       [ 0.4736304 ,  0.5125263 ,  1.11704602],\n",
              "       [ 0.34361374,  1.36307046,  0.00318536],\n",
              "       [ 0.56690607,  1.1094685 ,  0.97396722],\n",
              "       [ 0.57337753,  0.91472717,  1.10205998],\n",
              "       [ 0.41365193,  1.56835991,  0.52505918],\n",
              "       [ 0.30745533,  0.43303932,  0.81147138],\n",
              "       [ 0.52033794,  0.93036598,  0.84605544],\n",
              "       [ 0.4750207 ,  0.18352806,  1.56253737],\n",
              "       [ 0.55286193,  1.22940587,  0.83001148]])"
            ]
          },
          "metadata": {
            "tags": []
          },
          "execution_count": 90
        }
      ]
    },
    {
      "cell_type": "code",
      "metadata": {
        "id": "XhJpdVPL2oC1",
        "colab_type": "code",
        "colab": {}
      },
      "source": [
        "#각 차원의 값을 이용하여 3 클래스 분류를 할 수 있다. \n",
        "# 이 경우 출력된 3차원 벡터의 각 차원은 각 클래스에 대응하는 score가 된다. \n",
        "# 출력층 중 가장 큰 값을 내뱉는 뉴런에 해당하는 클래스가 예측 결과가 된다. \n",
        "\n",
        "#점수가 높을수록 클래스의 확률도 높아짐 점수를 soft max 함수를 사용하면 확률값이 된다. "
      ],
      "execution_count": 0,
      "outputs": []
    },
    {
      "cell_type": "markdown",
      "metadata": {
        "id": "L7hPuiO74dYx",
        "colab_type": "text"
      },
      "source": [
        "###1.2.2 계층으로 클래스화 및 순전파 구현"
      ]
    },
    {
      "cell_type": "code",
      "metadata": {
        "id": "bQqBO7hg4ZH3",
        "colab_type": "code",
        "colab": {}
      },
      "source": [
        "# 신경망에서 하는 처리를 꼐층(layer)로 구현\n",
        "# 완전연결계층에 의한 변환을 Affine 계층으로, 시그모이드 함수에 대한 변환을 sigmoid 계층으로 구현\n",
        "\n",
        "# 각 계층을 파이썬 클래스로 구현!\n",
        "# 기본 변환을 수행하는 메서드의 이름 = forward()로 지정."
      ],
      "execution_count": 0,
      "outputs": []
    },
    {
      "cell_type": "code",
      "metadata": {
        "id": "T-cVNao846wx",
        "colab_type": "code",
        "colab": {}
      },
      "source": [
        "# 순전파(forward propagation) : 신경망 추론 과정에서 하는 처리 : 입력층에서 출력층으로 향하는 전파\n",
        "# 역전파(backward propagation) : 신경망 학습 : 순전파와는 반대 방향으로 전파"
      ],
      "execution_count": 0,
      "outputs": []
    },
    {
      "cell_type": "code",
      "metadata": {
        "id": "zZWsX0Nn5b2X",
        "colab_type": "code",
        "colab": {}
      },
      "source": [
        "# 모든 예제의 구현 규칙\n",
        "\n",
        "# forward()와 backward() 메서드를 갖는다. \n",
        "# 모든 계층은 인스턴스 변수인 params와 grads를 가진다. (params, grads??)\n",
        "\n",
        "# params : 가중치와 편향 같은 매개변수를 담는 리스트\n",
        "# grads : params에 저장된 각 매개변수에 대응하여, 해당 매개변수의 기울기를 보관하는 리스트"
      ],
      "execution_count": 0,
      "outputs": []
    },
    {
      "cell_type": "code",
      "metadata": {
        "id": "yPTyTF6d5gTK",
        "colab_type": "code",
        "colab": {}
      },
      "source": [
        "import numpy as np\n",
        "class Sigmoid :\n",
        "  def __init__(self):\n",
        "    self.params = []\n",
        "  \n",
        "  def forward(self, x) :\n",
        "    return 1 / ( 1 + np.exp(-x))\n",
        "   "
      ],
      "execution_count": 0,
      "outputs": []
    },
    {
      "cell_type": "code",
      "metadata": {
        "id": "nocRKH1U6v_d",
        "colab_type": "code",
        "colab": {}
      },
      "source": [
        "class Affine :\n",
        "  def __init__(self, W, b) :\n",
        "    self.params = [W,b]\n",
        "    \n",
        "  def forward(self, x):\n",
        "    W,b = self.params\n",
        "    out = np.matmul(x,W) + b\n",
        "    return out"
      ],
      "execution_count": 0,
      "outputs": []
    },
    {
      "cell_type": "code",
      "metadata": {
        "id": "z9K7QfTf7eIv",
        "colab_type": "code",
        "colab": {}
      },
      "source": [
        "#afffine 계층은 초기화 될 떄 가중치와 편향을 받는다. 즉 가중치와 편향은 Affine계층의 매개변수이다. \n",
        "#리스트인 params 인스턴스 변수에 보관한다. \n",
        "\n",
        "\n",
        "\n",
        "##구현해볼 신경망의 계층 구성\n",
        "\n",
        "#X -> Affine -> sigmoid -> affine -> S\n",
        "\n",
        "#점수인 S 출력"
      ],
      "execution_count": 0,
      "outputs": []
    },
    {
      "cell_type": "code",
      "metadata": {
        "id": "Jvb8QFS2DCgq",
        "colab_type": "code",
        "colab": {}
      },
      "source": [
        "# 이 신경망을 Two LayerNet 이라는 클래스로 추상화 하고 주 처리는 predict(x)메서드로 구현"
      ],
      "execution_count": 0,
      "outputs": []
    },
    {
      "cell_type": "code",
      "metadata": {
        "id": "Yp9x8eb8DR8q",
        "colab_type": "code",
        "colab": {}
      },
      "source": [
        "class TwoLayerNet :\n",
        "  def __init__(self, input_size, hidden_size, output_size) :\n",
        "    I, H, O = input_size, hidden_size, output_size\n",
        "    \n",
        "    \n",
        "    # 가중치와 편향 초기화\n",
        "    \n",
        "    W1 = np.random.randn(I, H)\n",
        "    b1 = np.random.randn(H)\n",
        "    W2 = np.random.randn(H,O)\n",
        "    b2 = np.random.randn(O)\n",
        "    \n",
        "    \n",
        "    # 계층 생성\n",
        "    \n",
        "    self.layers = [\n",
        "        Affine(W1,b1),\n",
        "        Sigmoid(),\n",
        "        Affine(W2,b2)\n",
        "    ]\n",
        "    \n",
        "    \n",
        "    # 모든 가중치를 리스트에 모은다. \n",
        "    self.params = []\n",
        "    for layer in self.layers:\n",
        "      self.params += layer.params\n",
        "      \n",
        "      \n",
        "  def predict(self, x):\n",
        "      for layer in self.layers:\n",
        "        x = layer.forward(x)\n",
        "      return x"
      ],
      "execution_count": 0,
      "outputs": []
    },
    {
      "cell_type": "code",
      "metadata": {
        "id": "tQJAXwuBEfUz",
        "colab_type": "code",
        "colab": {}
      },
      "source": [
        "x = np.random.randn(10,2)\n",
        "model = TwoLayerNet(2,4,3)\n",
        "s = model.predict(x)"
      ],
      "execution_count": 0,
      "outputs": []
    },
    {
      "cell_type": "code",
      "metadata": {
        "id": "iaVm1KNmE1T-",
        "colab_type": "code",
        "outputId": "08dfcacf-ec28-46ee-bb58-61935e3f3462",
        "colab": {
          "base_uri": "https://localhost:8080/",
          "height": 191
        }
      },
      "source": [
        "s"
      ],
      "execution_count": 0,
      "outputs": [
        {
          "output_type": "execute_result",
          "data": {
            "text/plain": [
              "array([[-1.23635172,  0.71239252,  2.63763079],\n",
              "       [-1.32314235,  0.38993969,  2.39595402],\n",
              "       [-2.12027128, -0.13497624,  1.92271454],\n",
              "       [-0.84843691, -0.83401541,  1.64932968],\n",
              "       [-1.39623663,  0.07310946,  2.16856299],\n",
              "       [-2.38494384, -0.03519767,  1.95307795],\n",
              "       [-0.77953971,  0.57197411,  2.62295919],\n",
              "       [-2.22286814, -0.36901296,  1.75465838],\n",
              "       [-1.26835815,  0.81648638,  2.70828924],\n",
              "       [-0.75258036, -0.23294516,  2.05821432]])"
            ]
          },
          "metadata": {
            "tags": []
          },
          "execution_count": 111
        }
      ]
    },
    {
      "cell_type": "markdown",
      "metadata": {
        "id": "9BXatFQEHRlw",
        "colab_type": "text"
      },
      "source": [
        "##1.3 신경망의 학습"
      ]
    },
    {
      "cell_type": "code",
      "metadata": {
        "id": "0cJREqiwGdp-",
        "colab_type": "code",
        "colab": {}
      },
      "source": [
        "# 신경망의 학습은 최적의 매개 변수 값을 찾는 작업이다. (가중치와 편향)"
      ],
      "execution_count": 0,
      "outputs": []
    },
    {
      "cell_type": "markdown",
      "metadata": {
        "id": "qh1tUZHqIS6R",
        "colab_type": "text"
      },
      "source": [
        "###1.3.1 손실 함수"
      ]
    },
    {
      "cell_type": "code",
      "metadata": {
        "id": "kll-_ED_ISTP",
        "colab_type": "code",
        "colab": {}
      },
      "source": [
        "#학습이 얼마나 잘 되고 잇는지 알기 위한 척도가 필요하다.\n",
        "\n",
        "#척도 -> 손실(loss) -> 학습 단계의 특정 시점에서 신경망의 성능을 나타내는 척도\n",
        "#loss는 학습데이터(정답데이터)와 신경망이 예측한 결과를 비교하여 예측이 얼마나 나븐가를 산출한 단일값(스칼라값)\n",
        "\n",
        "#손실함수(loss function)를 사용\n",
        "\n",
        "#multi-class classification은 손실함수로 Cross Entropy Error(교차 엔트로피 오차) -> 각 클래스의 확률과 정답 레이블을 이용해 구할 수 있다. \n",
        "\n",
        "#"
      ],
      "execution_count": 0,
      "outputs": []
    },
    {
      "cell_type": "code",
      "metadata": {
        "id": "Yka5zibjIRdE",
        "colab_type": "code",
        "colab": {}
      },
      "source": [
        ""
      ],
      "execution_count": 0,
      "outputs": []
    }
  ]
}